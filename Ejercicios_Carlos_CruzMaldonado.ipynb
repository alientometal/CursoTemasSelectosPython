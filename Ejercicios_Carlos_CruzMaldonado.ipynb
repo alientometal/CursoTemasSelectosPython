{
 "cells": [
  {
   "cell_type": "markdown",
   "metadata": {},
   "source": [
    "# Ejercicios\n",
    "\n",
    "- Iteración\n",
    "- Recursión\n",
    "- Fuerza bruta \n",
    "- Divide y venceras\n",
    "- Vuelta atrás\n",
    "- Programación dinámica  "
   ]
  },
  {
   "cell_type": "markdown",
   "metadata": {},
   "source": [
    "## Iteración"
   ]
  },
  {
   "cell_type": "markdown",
   "metadata": {},
   "source": [
    "### Problema\n",
    "Te dan una lista de peces de agua salada y peces de agua dulce, ambos en orden alfabético.  \n",
    "¿Cómo creas una lista que tenga todos los peces en orden alfabético?."
   ]
  },
  {
   "cell_type": "code",
   "execution_count": 24,
   "metadata": {},
   "outputs": [],
   "source": [
    "def list_merge(list_1, list_2):\n",
    "    \"\"\"Une dos listas ordenadas alfabeticamente. \n",
    "    \n",
    "    Recibe dos listas ordenadas alfabeticamente y las une\n",
    "    manteniendo el orden alfabetico de sus elementos. Compara elemento\n",
    "    por elemento para posicionarlo en la nueva lista. \n",
    "\n",
    "    Args:\n",
    "        list_1: Lista con elementos ordenados alfabeticamente. \n",
    "        list_2: Lista con elementos ordenados alfabeticamente.\n",
    "        \n",
    "    Returns:\n",
    "        Una lista con elementos de ambas listas ordenados alfabeticamente.\n",
    "        Si las listas son de diferente tamaño en cuanto una lista se termine, \n",
    "        inmediatamente la otra lista pasa a formar parte al final de la nueva lista.\n",
    "    \"\"\"\n",
    "    merged_list = []\n",
    "    # Mientras haya una lista completa.\n",
    "    while (list_1 or list_2): \n",
    "        # En el momento en que una lista se acabe (porque vamos retirando elementos)\n",
    "        # en ese momento la lista sobrante pasa completa al final de la \n",
    "        # lista de la union y acaba el loop.\n",
    "        if not list_1:\n",
    "            merged_list.extend(list_2)\n",
    "            break\n",
    "        elif not list_2:\n",
    "            merged_list.extend(list_1)\n",
    "            break\n",
    "        # Seleccionamos el primero elemento de cada lista para la comparación. \n",
    "        list_1_element = list_1[0]\n",
    "        list_2_element = list_2[0]\n",
    "        \n",
    "        # En caso de que las primeras letras de la palabra sean iguales\n",
    "        # este contador va a avanzar por la cadena para ir comparando.\n",
    "        comparing_char = 0\n",
    "        if list_1_element[comparing_char] == list_2_element[comparing_char]:\n",
    "            comparing_char += 1\n",
    "        # Aquí se realiza la comparación y remoción de los elementos comparados.\n",
    "        if  list_1_element[comparing_char] < list_2_element[comparing_char]:\n",
    "            merged_list.append(list_1_element)\n",
    "            list_1.remove(list_1_element)\n",
    "        else:\n",
    "            merged_list.append(list_2_element)\n",
    "            list_2.remove(list_2_element)\n",
    "\n",
    "    return merged_list"
   ]
  },
  {
   "cell_type": "markdown",
   "metadata": {},
   "source": [
    "### Solución"
   ]
  },
  {
   "cell_type": "code",
   "execution_count": 25,
   "metadata": {},
   "outputs": [
    {
     "data": {
      "text/plain": [
       "['Asp', 'Carp', 'Cod', 'Herring', 'Ide', 'Marlin', 'Trout']"
      ]
     },
     "execution_count": 25,
     "metadata": {},
     "output_type": "execute_result"
    }
   ],
   "source": [
    "sea_water_list = ['Cod', 'Herring', 'Marlin']\n",
    "fresh_water_list = ['Asp', 'Carp', 'Ide', 'Trout']\n",
    "\n",
    "list_merge(sea_water_list, fresh_water_list)"
   ]
  },
  {
   "cell_type": "markdown",
   "metadata": {},
   "source": [
    "### Problema\n",
    "Una fragancia floral se hace combinando esencias de diferentes flores. Dado un conjunto de flores F, ¿cómo\n",
    "listarías todas las fragancias que pueden hacerse?"
   ]
  },
  {
   "cell_type": "code",
   "execution_count": 27,
   "metadata": {},
   "outputs": [],
   "source": [
    "def power_set(elements_toCombine):\n",
    "    \"\"\"Obtiene el power set de una lista de objetos.\n",
    "    \n",
    "    Dada una colección de objetos S, el power set de S es\n",
    "    el conjunto que contiene todos los subconjuntos de S.\n",
    "\n",
    "    Args:\n",
    "        elements_toCombine: Lista con elementos para obtener el power set. \n",
    "        \n",
    "    Returns:\n",
    "        Una lista de listas de los subconjuntos de la lista que se ingresó.\n",
    "    \"\"\"\n",
    "    combinatory = []\n",
    "    # El ejemplo pedía que hubiera un elemento None, algo así como un recipiente.\n",
    "    combinatory.append(['None'])\n",
    "    for element in elements_toCombine:\n",
    "        combinatory_subset = []\n",
    "        for combinatory_element in combinatory:\n",
    "            combinatory_subset.append([*combinatory_element, element])\n",
    "        combinatory.extend(combinatory_subset)\n",
    "    return combinatory"
   ]
  },
  {
   "cell_type": "markdown",
   "metadata": {},
   "source": [
    "### Solución"
   ]
  },
  {
   "cell_type": "code",
   "execution_count": 28,
   "metadata": {},
   "outputs": [
    {
     "data": {
      "text/plain": [
       "[['None'],\n",
       " ['None', 'Iris setosa'],\n",
       " ['None', 'Iris versicolour'],\n",
       " ['None', 'Iris setosa', 'Iris versicolour'],\n",
       " ['None', 'Iris virginica'],\n",
       " ['None', 'Iris setosa', 'Iris virginica'],\n",
       " ['None', 'Iris versicolour', 'Iris virginica'],\n",
       " ['None', 'Iris setosa', 'Iris versicolour', 'Iris virginica']]"
      ]
     },
     "execution_count": 28,
     "metadata": {},
     "output_type": "execute_result"
    }
   ],
   "source": [
    "flowers = ['Iris setosa', 'Iris versicolour', 'Iris virginica']\n",
    "power_set(flowers)"
   ]
  },
  {
   "cell_type": "markdown",
   "metadata": {},
   "source": [
    "## Recursión"
   ]
  },
  {
   "cell_type": "markdown",
   "metadata": {},
   "source": [
    "### Problema\n",
    "Checar si una palabra palíndromo"
   ]
  },
  {
   "cell_type": "code",
   "execution_count": 29,
   "metadata": {},
   "outputs": [],
   "source": [
    "def palindrome_check(palindrome_word):\n",
    "    \"\"\"Revisa si una palabra o frase son palíndromos.\n",
    "\n",
    "    Args:\n",
    "        palindrome_word: Cadena con la palabra o frase a revisar. \n",
    "        \n",
    "    Returns:\n",
    "        Regresa un valor Booleano ya sea 'True' si la palabra o frase\n",
    "        es palíndromo o 'False' si no lo es.\n",
    "    \"\"\"\n",
    "    # Se retiran los espacios en caso de ser un enunciado el que se quiera revisar.\n",
    "    # La cadena se pasa a una lista para poder usar el método pop.\n",
    "    palindrome_word = list(palindrome_word.replace(' ', ''))\n",
    "    # Se retiran el primer y el último elemento.\n",
    "    first_char = palindrome_word.pop(0)\n",
    "    last_char = palindrome_word.pop(-1)\n",
    "    \n",
    "    if len(palindrome_word) <= 1: # Caso base.\n",
    "        return True\n",
    "    if first_char != last_char:\n",
    "        return False\n",
    "    return palindrome_check(''.join(palindrome_word))"
   ]
  },
  {
   "cell_type": "markdown",
   "metadata": {},
   "source": [
    "### Solución"
   ]
  },
  {
   "cell_type": "code",
   "execution_count": 30,
   "metadata": {},
   "outputs": [
    {
     "data": {
      "text/plain": [
       "True"
      ]
     },
     "execution_count": 30,
     "metadata": {},
     "output_type": "execute_result"
    }
   ],
   "source": [
    "palindrome = 'anita lava la tina'\n",
    "palindrome_check(palindrome)"
   ]
  },
  {
   "cell_type": "markdown",
   "metadata": {},
   "source": [
    "## Fuerza bruta"
   ]
  },
  {
   "cell_type": "markdown",
   "metadata": {},
   "source": [
    "### Problema\n",
    "Tienes los precios diarios del oro por un intervalo de tiempo. Quieres encontrar\n",
    "dos días en este intervalo que si tu hubieras comprado y vendido oro en\n",
    "esas fechas hubieras obtenido la máxima ganancia."
   ]
  },
  {
   "cell_type": "code",
   "execution_count": 33,
   "metadata": {},
   "outputs": [],
   "source": [
    "import numpy as np"
   ]
  },
  {
   "cell_type": "code",
   "execution_count": 35,
   "metadata": {},
   "outputs": [],
   "source": [
    "def buy_gold_interval(gold_prices, interval):\n",
    "    \"\"\"Encuentra los días de compra y venta que hubieran garantizado una mayor ganancia.\n",
    "    \n",
    "    Encuentra dos días en el intervalo pedido en que si se hubiera comprado y \n",
    "    vendido oro se hubiera obtenido la mayor ganancia. \n",
    "    \n",
    "    Args:\n",
    "        gold_prices: Lista de tuplas (día, precio).\n",
    "        interval: Tupla de dos elementos indicando el intervalo a evaluar.\n",
    "        \n",
    "    Returns:\n",
    "        Imprime el valor y día de compra así como el valor y día de venta.\n",
    "        Regresa una tupla indicando primero el día de compra y segundo, el día de venta.\n",
    "    \"\"\"\n",
    "    if interval:\n",
    "        upp_interval, low_interval = interval\n",
    "        gold_prices = gold_prices[upp_interval:low_interval]\n",
    "        \n",
    "    buy_sell_combinatory = [(buy, sell) for buy in gold_prices for sell in gold_prices if buy != sell]\n",
    "\n",
    "    buy_price = 0\n",
    "    sell_price = 0\n",
    "    \n",
    "    for buy_sell_dates in buy_sell_combinatory:\n",
    "        day_buyPrice, day_sellPrice = buy_sell_dates\n",
    "        if day_buyPrice[1] <= day_sellPrice[1]:\n",
    "            if buy_price < day_buyPrice[1] and sell_price < day_sellPrice[1]:\n",
    "                buy_day, buy_price = day_buyPrice\n",
    "                sell_day, sell_price = day_sellPrice\n",
    "                \n",
    "    print(f'Buy at {round(buy_price, 2)} on day {buy_day}.')\n",
    "    print(f'Sell at {round(sell_price, 2)} on day {sell_day}.')\n",
    "    return (buy_day, sell_day)"
   ]
  },
  {
   "cell_type": "markdown",
   "metadata": {},
   "source": [
    "### Solución"
   ]
  },
  {
   "cell_type": "code",
   "execution_count": 36,
   "metadata": {},
   "outputs": [
    {
     "name": "stdout",
     "output_type": "stream",
     "text": [
      "Buy at 1358.64 on day 11.\n",
      "Sell at 2301.39 on day 10.\n"
     ]
    },
    {
     "data": {
      "text/plain": [
       "(11, 10)"
      ]
     },
     "execution_count": 36,
     "metadata": {},
     "output_type": "execute_result"
    }
   ],
   "source": [
    "gold_prices = list(zip(range(1, 30), list(np.random.normal(1500,500, 30))))\n",
    "buy_gold_interval(gold_prices, (9, 20))"
   ]
  },
  {
   "cell_type": "markdown",
   "metadata": {},
   "source": [
    "### Problema\n",
    "Tienes una mochila con productos para vender. Aguanta hasta cierto\n",
    "peso, pero no puedes cargar todos tus productos, así que debes elegir\n",
    "cuáles llevar. Conociendo los pesos y ventas de cada producto, ¿cuáles\n",
    "de los productos te van a dar la mayor ganancia?"
   ]
  },
  {
   "cell_type": "code",
   "execution_count": 43,
   "metadata": {},
   "outputs": [],
   "source": [
    "def to_sell(items, objects_weight_grams, objects_price_usd, max_weight):\n",
    "    \"\"\"Encuentra la combinación de articulos para vender que no pasen de un peso\n",
    "    establecido y además den la mayor ganancia.\n",
    "    \n",
    "    Args:\n",
    "        items: Lista de objetos a considerar.\n",
    "        objects_weight_grams: Diccionario {articulo:peso} con el peso de los articulos.\n",
    "        objects_price_usd: Diccionario {articulo:precio} con el precio de los artículos.\n",
    "        max_weight: Valor entero que establece el límite de peso sumado por los artículos.\n",
    "        \n",
    "    Returns:\n",
    "        Imprime el peso y el precio total de los artículos y el de la selección.\n",
    "        Regresa la lista de artículos para vender.\n",
    "    \"\"\"\n",
    "    sum_values = lambda items_list, values_dict:sum([values_dict[item] for item in items_list])\n",
    "    best_value = 0\n",
    "    print(f'All items weight: {sum_values(items, objects_weight_grams)}')\n",
    "    print(f'All items price: {sum_values(items, objects_price_usd)}')\n",
    "    for backpack_arrangement in power_set(items):\n",
    "        # Removemos None porque estámos reciclando código.\n",
    "        backpack_arrangement.remove('None')\n",
    "        if not backpack_arrangement:\n",
    "            continue\n",
    "        total_weight = sum_values(backpack_arrangement, objects_weight_grams)\n",
    "        if total_weight <= max_weight:\n",
    "            sales_value = sum_values(backpack_arrangement, objects_price_usd)\n",
    "            if sales_value > best_value:\n",
    "                best_value = sales_value\n",
    "                final_weight = total_weight\n",
    "                item_selection = backpack_arrangement\n",
    "    print(f'Weight {final_weight}')\n",
    "    print(f'Best value {best_value}')\n",
    "    return item_selection"
   ]
  },
  {
   "cell_type": "markdown",
   "metadata": {},
   "source": [
    "### Solución"
   ]
  },
  {
   "cell_type": "code",
   "execution_count": 42,
   "metadata": {},
   "outputs": [],
   "source": [
    "objects_weight_grams = {\n",
    "    \"Single DVD in a case\": 100,\n",
    "    \"Magazine\":250,\n",
    "    \"Pair of size 5 Women's trainers\":300,\n",
    "    \"400 page paperback book\":300,\n",
    "    \"Teddy bear\":400,\n",
    "    \"Pair of Women's jeans\":450,\n",
    "    \"Pair of Men's jeans\":700,\n",
    "    \"400 page hardback book\":700,\n",
    "    \"Pair of size 10 Men's trainers\": 800\n",
    "}\n",
    "\n",
    "objects_price_usd = {\n",
    "    \"Single DVD in a case\": 3,\n",
    "    \"Magazine\":2,\n",
    "    \"Pair of size 5 Women's trainers\":11,\n",
    "    \"400 page paperback book\":5,\n",
    "    \"Teddy bear\":4,\n",
    "    \"Pair of Women's jeans\":16,\n",
    "    \"Pair of Men's jeans\":18,\n",
    "    \"400 page hardback book\":7,\n",
    "    \"Pair of size 10 Men's trainers\": 10\n",
    "}"
   ]
  },
  {
   "cell_type": "code",
   "execution_count": 44,
   "metadata": {},
   "outputs": [
    {
     "name": "stdout",
     "output_type": "stream",
     "text": [
      "All items weight: 4000\n",
      "All items price: 76\n",
      "Weight 1850\n",
      "Best value 53\n"
     ]
    },
    {
     "data": {
      "text/plain": [
       "['Single DVD in a case',\n",
       " \"Pair of size 5 Women's trainers\",\n",
       " '400 page paperback book',\n",
       " \"Pair of Women's jeans\",\n",
       " \"Pair of Men's jeans\"]"
      ]
     },
     "execution_count": 44,
     "metadata": {},
     "output_type": "execute_result"
    }
   ],
   "source": [
    "items = list(objects_weight_grams.keys())\n",
    "to_sell(items, objects_weight_grams, objects_price_usd, 2000)"
   ]
  },
  {
   "cell_type": "markdown",
   "metadata": {},
   "source": [
    "## Divide y venceras"
   ]
  },
  {
   "cell_type": "markdown",
   "metadata": {},
   "source": [
    "### Problema\n",
    "Divide y vencerás funcionaría mejor para el problema de comercio (de oro) “Best trade”, en lugar de usar fuerza bruta."
   ]
  },
  {
   "cell_type": "code",
   "execution_count": 455,
   "metadata": {},
   "outputs": [],
   "source": [
    "def trade(prices):\n",
    "    \"\"\"Encuentra los días de compra y venta que hubieran garantizado una mayor ganancia.\n",
    "    \n",
    "    Args:\n",
    "        prices: Lista de precios ordenados por día.\n",
    "        \n",
    "    Returns:\n",
    "        Imprime el valor y día de compra así como el valor y día de venta.\n",
    "        Regresa una tupla indicando primero el día de compra y segundo, el día de venta.\n",
    "    \"\"\"\n",
    "    from math import ceil\n",
    "    if len(prices) == 1:\n",
    "        return 0\n",
    "                \n",
    "    half = ceil(len(prices)/2)\n",
    "    former = prices[:half]\n",
    "    latter = prices[half:]\n",
    "    profit = max(latter) - min(former)\n",
    "    \n",
    "    if profit>0:\n",
    "        trade_former = trade(former)\n",
    "        trade_latter = trade(latter)\n",
    "        if trade_former and trade_former > profit:\n",
    "            print(f'Buy at {round(min(latter), 2)} on day {prices.index(min(latter))}.')\n",
    "            print(f'Sell at {round(max(latter), 2)} on day {prices.index(max(latter))}.')\n",
    "            print('Profit: ', trade_former)\n",
    "            return prices.index(min(latter)), prices.index(max(latter))\n",
    "        elif trade_latter and trade_latter > profit:\n",
    "            print(f'Buy at {round(min(latter), 2)} on day {prices.index(min(latter))}.')\n",
    "            print(f'Sell at {round(max(latter), 2)} on day {prices.index(max(latter))}.')\n",
    "            print('Profit: ', trade_latter)\n",
    "            return prices.index(min(latter)), prices.index(max(latter))\n",
    "    return profit\n",
    "    "
   ]
  },
  {
   "cell_type": "markdown",
   "metadata": {},
   "source": [
    "### Solución"
   ]
  },
  {
   "cell_type": "code",
   "execution_count": 456,
   "metadata": {},
   "outputs": [
    {
     "name": "stdout",
     "output_type": "stream",
     "text": [
      "Buy at 2 on day 5.\n",
      "Sell at 47 on day 7.\n",
      "Profit:  45\n"
     ]
    },
    {
     "data": {
      "text/plain": [
       "(5, 7)"
      ]
     },
     "execution_count": 456,
     "metadata": {},
     "output_type": "execute_result"
    }
   ],
   "source": [
    "gold_price_values = [27, 53, 7, 25, 33, 2, 32, 47, 43]\n",
    "trade(gold_price_values)"
   ]
  },
  {
   "cell_type": "markdown",
   "metadata": {},
   "source": [
    "## Vuelta artrás"
   ]
  },
  {
   "cell_type": "markdown",
   "metadata": {},
   "source": [
    "### Problema\n",
    "¿Cómo puedes poner 8 reinas en el tablero sin que se maten una a la otra?"
   ]
  },
  {
   "cell_type": "code",
   "execution_count": 457,
   "metadata": {},
   "outputs": [],
   "source": [
    "def queenSpot(queens, chessboard=None, queen_positions=None):\n",
    "    \"\"\"Encuentra las posiciones en que se puede incluir el mayor número de reinas\n",
    "    sin que se maten entre ellas.\n",
    "    \n",
    "    Para cualquier tamaño de tablero. \n",
    "    \n",
    "    Args:\n",
    "        queens: Numero entero que indica el número de reinas a posicionar.\n",
    "        chessboard: Opcional, lista de tuplas indicando las coordenadas de un \n",
    "        tablero de ajedrez. Si no se proporciona, se genera uno.\n",
    "        queen_posicions: En esta variable se almacenan las coordenadas de las reinas.\n",
    "        \n",
    "    Returns:\n",
    "        Regresa una lista de las coordenadas para posicionar a las reinas.\n",
    "    \"\"\"\n",
    "    # Si es la primera iteración inicializamos el tablero y la lista para posiciones.\n",
    "    if chessboard == None:\n",
    "        chessboard = [(x,y) for x in range(queens) for y in range(queens)]\n",
    "        queen_positions = []\n",
    "    \n",
    "    for position in chessboard:\n",
    "        # Escogemos la posición para la reina.\n",
    "        queen_row, queen_column = position\n",
    "        # Hacemos una copia del tablero para ir eliminando sitios.\n",
    "        unattacked_positions = chessboard.copy()\n",
    "        for element in set(unattacked_positions):\n",
    "            row, column = element\n",
    "            # Elimina los sitios en cruz.\n",
    "            if queen_row == row or queen_column == column:\n",
    "                unattacked_positions.remove(element)\n",
    "            # Elimina los sitios en diagonal.\n",
    "            elif (row+column==queen_row+queen_column) or (row-column==queen_row-queen_column):\n",
    "                unattacked_positions.remove(element)\n",
    "        \n",
    "        queen_positions.append(position)\n",
    "        solution = queenSpot(queens-1, unattacked_positions, queen_positions) \n",
    "        if solution:\n",
    "            return queen_positions\n",
    "        if not len(unattacked_positions) and queens>1:\n",
    "            queen_positions.remove(position)\n",
    "            return False\n",
    "        # Caso base donde ya tenemos todas las posiciones de reinas.\n",
    "        if  queens==1: \n",
    "            return position\n",
    "        \n",
    "        queen_positions.remove(position)"
   ]
  },
  {
   "cell_type": "markdown",
   "metadata": {},
   "source": [
    "### Solución"
   ]
  },
  {
   "cell_type": "code",
   "execution_count": 339,
   "metadata": {},
   "outputs": [
    {
     "name": "stdout",
     "output_type": "stream",
     "text": [
      "[(0, 0), (1, 4), (2, 7), (3, 5), (4, 2), (5, 6), (6, 1), (7, 3)]\n"
     ]
    },
    {
     "data": {
      "text/plain": [
       "array([[1, 0, 0, 0, 0, 0, 0, 0],\n",
       "       [0, 0, 0, 0, 1, 0, 0, 0],\n",
       "       [0, 0, 0, 0, 0, 0, 0, 1],\n",
       "       [0, 0, 0, 0, 0, 1, 0, 0],\n",
       "       [0, 0, 1, 0, 0, 0, 0, 0],\n",
       "       [0, 0, 0, 0, 0, 0, 1, 0],\n",
       "       [0, 1, 0, 0, 0, 0, 0, 0],\n",
       "       [0, 0, 0, 1, 0, 0, 0, 0]])"
      ]
     },
     "execution_count": 339,
     "metadata": {},
     "output_type": "execute_result"
    }
   ],
   "source": [
    "import numpy as np\n",
    "queens = 8\n",
    "solution = queenSpot(queens)\n",
    "print(solution)\n",
    "\n",
    "\n",
    "tablero = np.full((queens,queens), 0)\n",
    "for row, column in solution:\n",
    "    tablero[row, column] = 1\n",
    "tablero"
   ]
  },
  {
   "cell_type": "markdown",
   "metadata": {},
   "source": [
    "## Programación dinámica"
   ]
  },
  {
   "cell_type": "markdown",
   "metadata": {},
   "source": [
    "### Problema\n",
    "Un ladrón entra a tu casa para robar los productos que ibas a vender. Decide usar tu mochila para tomar los productos robados.  \n",
    "    ¿Cuáles productos robará?"
   ]
  },
  {
   "cell_type": "code",
   "execution_count": 45,
   "metadata": {},
   "outputs": [],
   "source": [
    "def to_steal(objects_price, objects_weight_grams, max_weight):\n",
    "    \"\"\"Encuentra la combinación de articulos para robar que no pasen de un peso\n",
    "    establecido y además den la mayor ganancia.\n",
    "    \n",
    "    Args:\n",
    "        objects_price: Diccionario {articulo:precio} con el precio de los artículos.\n",
    "        objects_weight_grams: Diccionario {articulo:peso} con el peso de los articulos.\n",
    "        max_weight: Valor entero que establece el límite de peso sumado por los artículos.\n",
    "        \n",
    "    Returns:\n",
    "        Imprime el peso y el precio total de los artículos seleccionados.\n",
    "        Regresa la lista de artículos para robar.\n",
    "    \"\"\"\n",
    "    bag_weight = 0\n",
    "    bag_price = 0\n",
    "    bag_items = []\n",
    "    # Se obtiene la lista de elementos del Diccionario de precios. \n",
    "    items = list(objects_price.items())\n",
    "    # Ordenamos los artículos por precio.\n",
    "    items.sort(key=lambda x:x[1], reverse=True)\n",
    "    \n",
    "    for item, price in items:\n",
    "        if max_weight >= (bag_weight+objects_weight_grams[item]):\n",
    "            bag_weight += objects_weight_grams[item]\n",
    "            bag_price += price\n",
    "            bag_items.append(item)\n",
    "    print(f'Total bag weight: {bag_weight} gr')\n",
    "    print(f'Total bag price: {bag_price} USD')\n",
    "    return(bag_items)"
   ]
  },
  {
   "cell_type": "markdown",
   "metadata": {},
   "source": [
    "### Solución"
   ]
  },
  {
   "cell_type": "code",
   "execution_count": 47,
   "metadata": {},
   "outputs": [
    {
     "name": "stdout",
     "output_type": "stream",
     "text": [
      "Total bag weight: 2950 gr\n",
      "Total bag price: 62 USD\n"
     ]
    },
    {
     "data": {
      "text/plain": [
       "[\"Pair of Men's jeans\",\n",
       " \"Pair of Women's jeans\",\n",
       " \"Pair of size 5 Women's trainers\",\n",
       " \"Pair of size 10 Men's trainers\",\n",
       " '400 page hardback book']"
      ]
     },
     "execution_count": 47,
     "metadata": {},
     "output_type": "execute_result"
    }
   ],
   "source": [
    "to_steal(objects_price_usd, objects_weight_grams, 3000)"
   ]
  },
  {
   "cell_type": "markdown",
   "metadata": {},
   "source": [
    "### Problema\n",
    "Los asentamientos en áreas remotas no tienen electricidad pero pueden tener una planta de poder. La electricidad se puede distribuir de un asentamiento a otro \n",
    "usando cables. ¿Cómo puedes unir todos los asentamientos usando el menor cable posible?"
   ]
  },
  {
   "cell_type": "code",
   "execution_count": 52,
   "metadata": {},
   "outputs": [],
   "source": [
    "def minimum_walk(initial_node, network_weights):\n",
    "    \"\"\"Encuentra el camino mínimo que cruce por todos los nodos de la red.\n",
    "    \n",
    "    Considera una red pesada, en la cual el peso cada arista representa la distancia\n",
    "    entre los nodos. \n",
    "    Nota: Un grafo pesado debe ser un grafo completo en el cual todos los nodos\n",
    "    estén conectados.\n",
    "    \n",
    "    Args:\n",
    "        initial_node: Nodo inicial a partir del cual se empieza a medir la distancia.\n",
    "        network_weights: Diccionario de diccionarios {nodo:{nodo:distancia}} con los \n",
    "        pesos entre los nodos.\n",
    "        \n",
    "    Returns:\n",
    "        Imprime la distancia mínima de un recorrido pasando por todos los nodos.\n",
    "        Regresa la lista de aristas que sigue ese recorrido.\n",
    "    \"\"\"\n",
    "    walk = []\n",
    "    visited_nodes = set()\n",
    "    total_distance = 0\n",
    "\n",
    "    while len(visited_nodes) < len(network_weights):\n",
    "        visited_nodes.add(initial_node)\n",
    "        # Creamos una lista con los nodos del vecindario ordenados por distancia.\n",
    "        node_vecindary = list(network_weights[initial_node].items())\n",
    "        node_vecindary.sort(key=lambda x:x[1], reverse=False)\n",
    "        # Un iterador innecesario nada más para que se vea fino en ahorro de memoria \n",
    "        # aunque no lo sea. \n",
    "        node_vecindary = iter(node_vecindary)\n",
    "        for tup in node_vecindary:\n",
    "            node, distance = tup\n",
    "            if node not in visited_nodes:\n",
    "                walk.append((initial_node, node))\n",
    "                initial_node = node\n",
    "                total_distance += distance\n",
    "                break\n",
    "\n",
    "    print(f'Total distance: {total_distance}')\n",
    "    return (walk)\n"
   ]
  },
  {
   "cell_type": "markdown",
   "metadata": {},
   "source": [
    "### Solución"
   ]
  },
  {
   "cell_type": "code",
   "execution_count": 51,
   "metadata": {},
   "outputs": [],
   "source": [
    "network_weights = {\n",
    "     'a': {'b': 56, 'c': 43, 'd': 85, 'e': 70, 'f': 65},\n",
    "     'c': {'b': 55, 'd': 94, 'e': 62, 'f': 92, 'a': 43},\n",
    "     'b': {'d': 21, 'e': 83, 'f': 77, 'a': 56, 'c': 55},\n",
    "     'd': {'e': 22, 'f': 62, 'a': 85, 'c': 94, 'b': 21},\n",
    "     'e': {'f': 41, 'a': 70, 'c': 62, 'b': 83, 'd': 22},\n",
    "     'f': {'a': 65, 'c': 92, 'b': 77, 'd': 62, 'e': 41}\n",
    "}"
   ]
  },
  {
   "cell_type": "code",
   "execution_count": 53,
   "metadata": {},
   "outputs": [
    {
     "name": "stdout",
     "output_type": "stream",
     "text": [
      "Total distance: 182\n"
     ]
    },
    {
     "data": {
      "text/plain": [
       "[('a', 'c'), ('c', 'b'), ('b', 'd'), ('d', 'e'), ('e', 'f')]"
      ]
     },
     "execution_count": 53,
     "metadata": {},
     "output_type": "execute_result"
    }
   ],
   "source": [
    "minimum_walk('a', network_weights)"
   ]
  }
 ],
 "metadata": {
  "kernelspec": {
   "display_name": "Python 3",
   "language": "python",
   "name": "python3"
  },
  "language_info": {
   "codemirror_mode": {
    "name": "ipython",
    "version": 3
   },
   "file_extension": ".py",
   "mimetype": "text/x-python",
   "name": "python",
   "nbconvert_exporter": "python",
   "pygments_lexer": "ipython3",
   "version": "3.7.6"
  }
 },
 "nbformat": 4,
 "nbformat_minor": 4
}
