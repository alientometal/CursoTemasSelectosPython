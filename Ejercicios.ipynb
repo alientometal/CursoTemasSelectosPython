{
 "cells": [
  {
   "cell_type": "markdown",
   "metadata": {},
   "source": [
    "# Ejercicios  \n",
    "\n",
    "- Iteración\n",
    "- Recursión\n",
    "- Fuerza bruta \n",
    "- Divide y venceras\n",
    "- Vuelta atrás\n",
    "- Programación dinámica  \n",
    "\n",
    "Tienen que tener:\n",
    "- Diagramas de flujo o pseudocódigo\n",
    "- Comentarios/Documentación"
   ]
  },
  {
   "cell_type": "markdown",
   "metadata": {},
   "source": [
    "## Iteración"
   ]
  },
  {
   "cell_type": "markdown",
   "metadata": {},
   "source": [
    "Te dan una lista de peces de agua salada y peces de agua dulce, ambos en orden alfabético.  \n",
    "¿Cómo creas una lista que tenga todos los peces en orden alfabético?."
   ]
  },
  {
   "cell_type": "code",
   "execution_count": 376,
   "metadata": {},
   "outputs": [],
   "source": [
    "def list_merge(sea_water_list, fresh_water_list):\n",
    "    merged_list = []\n",
    "    while (sea_water_list or fresh_water_list):\n",
    "\n",
    "        if not sea_water_list:\n",
    "            merged_list.extend(fresh_water_list)\n",
    "            break\n",
    "        elif not fresh_water_list:\n",
    "            merged_list.extend(sea_water_list)\n",
    "            break\n",
    "\n",
    "        sea_water_fish = sea_water_list[0]\n",
    "        fresh_water_fish = fresh_water_list[0]\n",
    "\n",
    "        comparing_char = 0\n",
    "\n",
    "        if sea_water_fish[comparing_char] == fresh_water_fish[comparing_char]:\n",
    "            comparing_char += 1\n",
    "\n",
    "        if  sea_water_fish[comparing_char] < fresh_water_fish[comparing_char]:\n",
    "            merged_list.append(sea_water_fish)\n",
    "            sea_water_list.remove(sea_water_fish)\n",
    "        else:\n",
    "            merged_list.append(fresh_water_fish)\n",
    "            fresh_water_list.remove(fresh_water_fish)\n",
    "\n",
    "    return merged_list"
   ]
  },
  {
   "cell_type": "code",
   "execution_count": 377,
   "metadata": {},
   "outputs": [
    {
     "data": {
      "text/plain": [
       "['Asp', 'Carp', 'Cod', 'Herring', 'Ide', 'Marlin', 'Trout']"
      ]
     },
     "execution_count": 377,
     "metadata": {},
     "output_type": "execute_result"
    }
   ],
   "source": [
    "sea_water_list = ['Cod', 'Herring', 'Marlin']\n",
    "fresh_water_list = ['Asp', 'Carp', 'Ide', 'Trout']\n",
    "\n",
    "list_merge(sea_water_list, fresh_water_list)"
   ]
  },
  {
   "cell_type": "code",
   "execution_count": 374,
   "metadata": {},
   "outputs": [],
   "source": [
    "def power_set(flowers):\n",
    "    fragances = []\n",
    "    fragances.append(['None'])\n",
    "    for flower in flowers:\n",
    "        new_fragances = []\n",
    "        for fragance in fragances:\n",
    "            new_fragances.append([*fragance, flower])\n",
    "        fragances.extend(new_fragances)\n",
    "    return fragances"
   ]
  },
  {
   "cell_type": "code",
   "execution_count": 378,
   "metadata": {},
   "outputs": [
    {
     "data": {
      "text/plain": [
       "[['None'],\n",
       " ['None', 'Iris setosa'],\n",
       " ['None', 'Iris versicolour'],\n",
       " ['None', 'Iris setosa', 'Iris versicolour'],\n",
       " ['None', 'Iris virginica'],\n",
       " ['None', 'Iris setosa', 'Iris virginica'],\n",
       " ['None', 'Iris versicolour', 'Iris virginica'],\n",
       " ['None', 'Iris setosa', 'Iris versicolour', 'Iris virginica']]"
      ]
     },
     "execution_count": 378,
     "metadata": {},
     "output_type": "execute_result"
    }
   ],
   "source": [
    "flowers = ['Iris setosa', 'Iris versicolour', 'Iris virginica']\n",
    "power_set(flowers)"
   ]
  },
  {
   "cell_type": "markdown",
   "metadata": {},
   "source": [
    "## Recursión"
   ]
  },
  {
   "cell_type": "markdown",
   "metadata": {},
   "source": [
    "Checar si una palabra palíndromo"
   ]
  },
  {
   "cell_type": "code",
   "execution_count": 423,
   "metadata": {},
   "outputs": [],
   "source": [
    "def palindrome_check(palindrome_word):\n",
    "    palindrome_word = list(palindrome_word.replace(' ', ''))\n",
    "    first_char = palindrome_word.pop(0)\n",
    "    last_char = palindrome_word.pop(-1)\n",
    "    if len(palindrome_word) <= 1:\n",
    "        return True\n",
    "    if first_char != last_char:\n",
    "        return False\n",
    "    return palindrome_check(''.join(palindrome_word))"
   ]
  },
  {
   "cell_type": "code",
   "execution_count": 426,
   "metadata": {},
   "outputs": [
    {
     "data": {
      "text/plain": [
       "True"
      ]
     },
     "execution_count": 426,
     "metadata": {},
     "output_type": "execute_result"
    }
   ],
   "source": [
    "palindrome = 'anita lava la tina'\n",
    "palindrome_check(palindrome)"
   ]
  },
  {
   "cell_type": "markdown",
   "metadata": {},
   "source": [
    "## Fuerza bruta"
   ]
  },
  {
   "cell_type": "markdown",
   "metadata": {},
   "source": [
    "Tienes los precios diarios del oro por un intervalo de tiempo. Quieres encontrar\n",
    "dos días en este intervalo que si tu hubieras comprado y vendido oro en\n",
    "esas fechas hubieras obtenido la máxima ganancia."
   ]
  },
  {
   "cell_type": "code",
   "execution_count": 482,
   "metadata": {},
   "outputs": [],
   "source": [
    "import numpy as np"
   ]
  },
  {
   "cell_type": "code",
   "execution_count": 519,
   "metadata": {},
   "outputs": [],
   "source": [
    "gold_prices = list(zip(range(1, 30), list(np.random.normal(1500,500, 30))))"
   ]
  },
  {
   "cell_type": "code",
   "execution_count": 525,
   "metadata": {},
   "outputs": [],
   "source": [
    "def buy_gold_interval(gold_prices, interval):\n",
    "    if interval:\n",
    "        upp_interval, low_interval = interval\n",
    "        gold_prices = gold_prices[upp_interval:low_interval]\n",
    "        \n",
    "    buy_sell_combinatory = [(buy, sell) for buy in gold_prices for sell in gold_prices if buy != sell]\n",
    "\n",
    "    buy_price = 0\n",
    "    sell_price = 0\n",
    "    \n",
    "    for buy_sell_dates in buy_sell_combinatory:\n",
    "        day_buyPrice, day_sellPrice = buy_sell_dates\n",
    "        if day_buyPrice[1] <= day_sellPrice[1]:\n",
    "            if buy_price < day_buyPrice[1] and sell_price < day_sellPrice[1]:\n",
    "                buy_day, buy_price = day_buyPrice\n",
    "                sell_day, sell_price = day_sellPrice\n",
    "                \n",
    "    print(f'Buy at {round(buy_price, 2)} on day {buy_day}.')\n",
    "    print(f'Sell at {round(sell_price, 2)} on day {sell_day}.')\n",
    "    return (buy_day, sell_day)"
   ]
  },
  {
   "cell_type": "code",
   "execution_count": 532,
   "metadata": {},
   "outputs": [
    {
     "name": "stdout",
     "output_type": "stream",
     "text": [
      "Buy at 2216.44 on day 15.\n",
      "Sell at 2249.35 on day 20.\n"
     ]
    },
    {
     "data": {
      "text/plain": [
       "(15, 20)"
      ]
     },
     "execution_count": 532,
     "metadata": {},
     "output_type": "execute_result"
    }
   ],
   "source": [
    "buy_gold_interval(gold_prices, (9, 20))"
   ]
  },
  {
   "cell_type": "markdown",
   "metadata": {},
   "source": [
    "Tienes una mochila con productos para vender. Aguanta hasta cierto\n",
    "peso, pero no puedes cargar todos tus productos, así que debes elegir\n",
    "cuáles llevar. Conociendo los pesos y ventas de cada producto, ¿cuáles\n",
    "de los productos te van a dar la mayor ganancia?"
   ]
  },
  {
   "cell_type": "code",
   "execution_count": 431,
   "metadata": {},
   "outputs": [],
   "source": [
    "objects_weight_grams = {\n",
    "    \"Single DVD in a case\": 100,\n",
    "    \"Magazine\":250,\n",
    "    \"Pair of size 5 Women's trainers\":300,\n",
    "    \"400 page paperback book\":300,\n",
    "    \"Teddy bear\":400,\n",
    "    \"Pair of Women's jeans\":450,\n",
    "    \"Pair of Men's jeans\":700,\n",
    "    \"400 page hardback book\":700,\n",
    "    \"Pair of size 10 Men's trainers\": 800\n",
    "}\n",
    "\n",
    "objects_price_usd = {\n",
    "    \"Single DVD in a case\": 3,\n",
    "    \"Magazine\":2,\n",
    "    \"Pair of size 5 Women's trainers\":11,\n",
    "    \"400 page paperback book\":5,\n",
    "    \"Teddy bear\":4,\n",
    "    \"Pair of Women's jeans\":16,\n",
    "    \"Pair of Men's jeans\":18,\n",
    "    \"400 page hardback book\":7,\n",
    "    \"Pair of size 10 Men's trainers\": 10\n",
    "}"
   ]
  },
  {
   "cell_type": "code",
   "execution_count": 427,
   "metadata": {},
   "outputs": [],
   "source": [
    "def power_set(flowers):\n",
    "    fragances = []\n",
    "    fragances.append(['None'])\n",
    "    for flower in flowers:\n",
    "        new_fragances = []\n",
    "        for fragance in fragances:\n",
    "            new_fragances.append([*fragance, flower])\n",
    "        fragances.extend(new_fragances)\n",
    "    return fragances"
   ]
  },
  {
   "cell_type": "code",
   "execution_count": 522,
   "metadata": {},
   "outputs": [],
   "source": [
    "def to_sell(items, max_weight):\n",
    "    sum_values = lambda items_list, values_dict:sum([values_dict[item] for item in items_list])\n",
    "    best_value = 0\n",
    "    print(f'All items weight: {sum_values(items, objects_weight_grams)}')\n",
    "    print(f'All items price: {sum_values(items, objects_price_usd)}')\n",
    "    for backpack_arrangement in power_set(items):\n",
    "        backpack_arrangement.remove('None')\n",
    "        if not backpack_arrangement:\n",
    "            continue\n",
    "        total_weight = sum_values(backpack_arrangement, objects_weight_grams)\n",
    "        if total_weight <= max_weight:\n",
    "            sales_value = sum_values(backpack_arrangement, objects_price_usd)\n",
    "            if sales_value > best_value:\n",
    "                best_value = sales_value\n",
    "                final_weight = total_weight\n",
    "                item_selection = backpack_arrangement\n",
    "    print(f'Weight {final_weight}')\n",
    "    print(f'Best value {best_value}')\n",
    "    return item_selection"
   ]
  },
  {
   "cell_type": "code",
   "execution_count": 523,
   "metadata": {},
   "outputs": [
    {
     "name": "stdout",
     "output_type": "stream",
     "text": [
      "All items weight: 4000\n",
      "All items price: 76\n",
      "Weight 1850\n",
      "Best value 53\n"
     ]
    },
    {
     "data": {
      "text/plain": [
       "['Single DVD in a case',\n",
       " \"Pair of size 5 Women's trainers\",\n",
       " '400 page paperback book',\n",
       " \"Pair of Women's jeans\",\n",
       " \"Pair of Men's jeans\"]"
      ]
     },
     "execution_count": 523,
     "metadata": {},
     "output_type": "execute_result"
    }
   ],
   "source": [
    "items = list(objects_weight_grams.keys())\n",
    "to_sell(items, 2000)"
   ]
  },
  {
   "cell_type": "markdown",
   "metadata": {},
   "source": [
    "## Divide y venceras"
   ]
  },
  {
   "cell_type": "markdown",
   "metadata": {},
   "source": [
    "Divide y vencerás funcionaría mejor para el problema de comercio (de oro) “Best trade”, en lugar de usar fuerza bruta."
   ]
  },
  {
   "cell_type": "code",
   "execution_count": 780,
   "metadata": {},
   "outputs": [],
   "source": [
    "def trade(prices):\n",
    "    if len(prices) == 1:\n",
    "        return 0\n",
    "    half = len(prices)//2\n",
    "    former = prices[:half]\n",
    "    latter = prices[half:]\n",
    "    \n",
    "    _, former_values = zip(*former)\n",
    "    _, latter_values = zip(*latter)\n",
    "    \n",
    "    case3 = max(latter_values) - min(former_values)\n",
    "    \n",
    "    return [trade(former), trade(latter), case3]\n",
    "    "
   ]
  },
  {
   "cell_type": "code",
   "execution_count": 792,
   "metadata": {},
   "outputs": [],
   "source": [
    "def trade(prices):\n",
    "    if len(prices) == 1:\n",
    "        return 0\n",
    "    \n",
    "    min_price = min(prices)\n",
    "    max_price = max(prices)\n",
    "    \n",
    "    earning = max_price - min_price\n",
    "    \n",
    "    half = len(prices)//2\n",
    "    former = prices[:half]\n",
    "    latter = prices[half:]\n",
    "    \n",
    "    return [trade(former), trade(latter), earning]\n",
    "    "
   ]
  },
  {
   "cell_type": "code",
   "execution_count": 1117,
   "metadata": {},
   "outputs": [],
   "source": [
    "gold_price_values = [27, 53, 7, 25, 33, 2, 32, 47, 43]"
   ]
  },
  {
   "cell_type": "code",
   "execution_count": 1115,
   "metadata": {},
   "outputs": [],
   "source": [
    "gold_price_values = [27, 2, 32, 47, 53, 7, 25, 33, 43]"
   ]
  },
  {
   "cell_type": "code",
   "execution_count": 923,
   "metadata": {},
   "outputs": [],
   "source": [
    "def trade(prices):\n",
    "    \n",
    "    if len(prices) == 1:\n",
    "        print('      ', prices)\n",
    "        return 0\n",
    "    \n",
    "    half = len(prices)//2\n",
    "    former = prices[:half]\n",
    "    latter = prices[half:]\n",
    "\n",
    "    min_price = min(prices)\n",
    "    max_price = max(prices[prices.index(min_price):])\n",
    "    profit = max_price - min_price\n",
    "    \n",
    "    if trade(former) > profit:\n",
    "        return trade(former)\n",
    "    elif trade(latter) > profit:\n",
    "        return trade(latter)\n",
    "\n",
    "    print(min_price, max_price, profit)\n",
    "    return profit"
   ]
  },
  {
   "cell_type": "code",
   "execution_count": 1127,
   "metadata": {},
   "outputs": [],
   "source": [
    "def trade(prices):\n",
    "    from math import ceil\n",
    "    if len(prices) == 1:\n",
    "        return 0\n",
    "                \n",
    "    half = ceil(len(prices)/2)#ceil(len(prices)/2) #len(prices)//2\n",
    "    former = prices[:half]\n",
    "    latter = prices[half:]\n",
    "    profit = max(latter) - min(former)\n",
    "    #print(profit)\n",
    "    \n",
    "\n",
    "    \n",
    "    if profit>0:\n",
    "        #print(len(prices), prices, profit)\n",
    "        trade_former = trade(former)\n",
    "        trade_latter = trade(latter)\n",
    "        print('trades',trade_former, trade_latter, len(prices), prices, profit)\n",
    "        if trade_former and trade_former > profit:\n",
    "            print('former', min(former), max(latter), profit)\n",
    "            \n",
    "            if profit > trade_former:\n",
    "                print('stop', trade_former, trade_latter, profit)\n",
    "                return profit\n",
    "            return trade(former)\n",
    "        elif trade_latter and trade_latter > profit:\n",
    "            print('latter', min(former), max(latter), trade_latter, profit)\n",
    "            \n",
    "            if profit > trade_latter:\n",
    "                print('stop', trade_former, trade_latter, profit)\n",
    "                return profit\n",
    "            return trade(latter)\n",
    "\n",
    "    return profit\n",
    "    "
   ]
  },
  {
   "cell_type": "code",
   "execution_count": 1128,
   "metadata": {},
   "outputs": [
    {
     "name": "stdout",
     "output_type": "stream",
     "text": [
      "trades 0 0 2 [25, 33] 8\n",
      "trades -20 8 5 [27, 53, 7, 25, 33] 26\n",
      "trades 0 0 2 [2, 32] 30\n",
      "trades 30 -4 4 [2, 32, 47, 43] 45\n",
      "trades 26 45 9 [27, 53, 7, 25, 33, 2, 32, 47, 43] 40\n",
      "latter 7 47 45 40\n",
      "trades 0 0 2 [2, 32] 30\n",
      "trades 30 -4 4 [2, 32, 47, 43] 45\n"
     ]
    },
    {
     "data": {
      "text/plain": [
       "45"
      ]
     },
     "execution_count": 1128,
     "metadata": {},
     "output_type": "execute_result"
    }
   ],
   "source": [
    "trade(gold_price_values)"
   ]
  },
  {
   "cell_type": "code",
   "execution_count": 822,
   "metadata": {},
   "outputs": [
    {
     "name": "stdout",
     "output_type": "stream",
     "text": [
      "[27, 53]\n",
      "27 53 26\n"
     ]
    }
   ],
   "source": [
    "half = len(gold_price_values)//2\n",
    "former = gold_price_values[:half]\n",
    "latter = gold_price_values[half:]\n",
    "print(former)\n",
    "gold_price_values = former\n",
    "\n",
    "min_price = min(gold_price_values)\n",
    "max_price = max(gold_price_values[gold_price_values.index(min_price):])\n",
    "\n",
    "profit = max_price - min_price\n",
    "\n",
    "print(min_price, max_price, profit)"
   ]
  },
  {
   "cell_type": "markdown",
   "metadata": {},
   "source": [
    "## Vuelta artrás"
   ]
  },
  {
   "cell_type": "markdown",
   "metadata": {},
   "source": [
    "¿Cómo puedes poner 8 reinas en el tablero sin que se maten una a la otra?"
   ]
  },
  {
   "cell_type": "code",
   "execution_count": 1178,
   "metadata": {},
   "outputs": [],
   "source": [
    "tabletop = [(x,y) for x in list(range(4)) for y in range(4)] "
   ]
  },
  {
   "cell_type": "code",
   "execution_count": 1422,
   "metadata": {},
   "outputs": [],
   "source": [
    "'''\n",
    "def queenSpot(tabletop, queens=[], list_queens=set()):\n",
    "    \n",
    "    if len(queens) >= 4:\n",
    "        print('ddd', set(list_queens))\n",
    "        #return set(list_queens)\n",
    "    \n",
    "    cont = 0\n",
    "    for position in tabletop:\n",
    "        cont += 1\n",
    "        print(position, cont)\n",
    "        queen_row, queen_column = position\n",
    "        unattacked_positions = tabletop.copy()\n",
    "        for element in set(unattacked_positions):\n",
    "            row, column = element\n",
    "            if queen_row == row or queen_column == column:\n",
    "                unattacked_positions.remove(element)\n",
    "\n",
    "            elif (row+column==queen_row+queen_column) or (row-column==queen_row-queen_column):\n",
    "                unattacked_positions.remove(element)\n",
    "        queens.append(position)\n",
    "        \n",
    "        if not unattacked_positions and len(queens) == 4:\n",
    "            list_queens.add(tuple(set(queens)))\n",
    "            print('vacia', queens)\n",
    "            \n",
    "        solution = queenSpot(unattacked_positions, queens, list_queens)\n",
    "        if not solution:\n",
    "            print('Not Solution', solution)\n",
    "            queens.remove(position)\n",
    "            continue\n",
    "        \n",
    "        print(cont)\n",
    "        return False, cont\n",
    "'''"
   ]
  },
  {
   "cell_type": "code",
   "execution_count": 1474,
   "metadata": {},
   "outputs": [],
   "source": [
    "def queenSpot(tabletop, queens=[], list_queens=set()):\n",
    "    #####################################\n",
    "    if len(queens) >= 4:\n",
    "        print('ddddd', queens, set(list_queens))\n",
    "        return queens\n",
    "    #####################################\n",
    "    \n",
    "    cont = 0\n",
    "    for position in tabletop:\n",
    "        cont += 1\n",
    "        print(position, cont)\n",
    "        queen_row, queen_column = position\n",
    "        unattacked_positions = tabletop.copy()\n",
    "        for element in set(unattacked_positions):\n",
    "            row, column = element\n",
    "            if queen_row == row or queen_column == column:\n",
    "                unattacked_positions.remove(element)\n",
    "\n",
    "            elif (row+column==queen_row+queen_column) or (row-column==queen_row-queen_column):\n",
    "                unattacked_positions.remove(element)\n",
    "        queens.append(position)\n",
    "        \n",
    "        #################################\n",
    "        if not unattacked_positions:#   and len(queens) < 4\n",
    "            list_queens.add(tuple(set(queens)))\n",
    "            print('vacia', set(queens), list_queens)\n",
    "            return False\n",
    "            \n",
    "        solution = queenSpot(unattacked_positions, queens, list_queens)\n",
    "        if not solution:\n",
    "            print('Not Solution', solution)\n",
    "            queens.remove(position)\n",
    "            continue\n",
    "        else:\n",
    "            print(cont, 'asdasdasdasd')\n",
    "            return queens"
   ]
  },
  {
   "cell_type": "code",
   "execution_count": 1475,
   "metadata": {},
   "outputs": [
    {
     "name": "stdout",
     "output_type": "stream",
     "text": [
      "(0, 0) 1\n",
      "(1, 2) 1\n",
      "(3, 1) 1\n",
      "vacia {(1, 2), (0, 0), (3, 1)} {((1, 2), (0, 0), (3, 1))}\n",
      "Not Solution False\n",
      "(1, 3) 2\n",
      "(2, 1) 1\n",
      "vacia {(1, 3), (0, 0), (3, 1), (2, 1)} {((1, 3), (0, 0), (3, 1), (2, 1)), ((1, 2), (0, 0), (3, 1))}\n",
      "Not Solution False\n",
      "(2, 1) 3\n",
      "ddddd [(0, 0), (3, 1), (2, 1), (2, 1)] {((1, 3), (0, 0), (3, 1), (2, 1)), ((1, 2), (0, 0), (3, 1))}\n",
      "3 asdasdasdasd\n",
      "1 asdasdasdasd\n"
     ]
    },
    {
     "data": {
      "text/plain": [
       "[(0, 0), (3, 1), (2, 1), (2, 1)]"
      ]
     },
     "execution_count": 1475,
     "metadata": {},
     "output_type": "execute_result"
    }
   ],
   "source": [
    "tabletop = [(x,y) for x in range(4) for y in range(4)] \n",
    "queenSpot(tabletop)"
   ]
  },
  {
   "cell_type": "code",
   "execution_count": 1412,
   "metadata": {},
   "outputs": [],
   "source": [
    "def queenSpot(tabletop, queens=[]):\n",
    "    \n",
    "    if len(queens) == 4:\n",
    "        #print(queens)\n",
    "        return queens\n",
    "    cont = 0\n",
    "    for position in tabletop:\n",
    "        cont += 1\n",
    "        queen_row, queen_column = position\n",
    "        unattacked_positions = tabletop.copy()\n",
    "        for element in set(unattacked_positions):\n",
    "            row, column = element\n",
    "            if queen_row == row or queen_column == column:\n",
    "                unattacked_positions.remove(element)\n",
    "\n",
    "            elif (row+column==queen_row+queen_column) or (row-column==queen_row-queen_column):\n",
    "                unattacked_positions.remove(element)\n",
    "                \n",
    "        queens.append(position)\n",
    "        solution = queenSpot(unattacked_positions, queens)\n",
    "        print(queens)\n",
    "        if not solution:\n",
    "            queens.remove(position)\n",
    "            continue\n",
    "        print(cont)\n",
    "        return False, queens"
   ]
  },
  {
   "cell_type": "code",
   "execution_count": 1413,
   "metadata": {},
   "outputs": [
    {
     "name": "stdout",
     "output_type": "stream",
     "text": [
      "[(0, 0), (1, 2), (3, 1)]\n",
      "[(0, 0), (1, 2)]\n",
      "[(0, 0), (1, 3), (2, 1)]\n",
      "[(0, 0), (1, 3), (3, 2)]\n",
      "[(0, 0), (1, 3)]\n",
      "[(0, 0), (2, 1), (1, 3)]\n",
      "[(0, 0), (2, 1)]\n",
      "[(0, 0), (2, 3), (3, 1)]\n",
      "[(0, 0), (2, 3)]\n",
      "[(0, 0), (3, 1), (1, 2)]\n",
      "[(0, 0), (3, 1), (2, 3)]\n",
      "[(0, 0), (3, 1)]\n",
      "[(0, 0), (3, 2), (1, 3)]\n",
      "[(0, 0), (3, 2)]\n",
      "[(0, 0)]\n",
      "[(0, 1), (1, 3), (2, 0), (3, 2)]\n",
      "1\n",
      "[(0, 1), (1, 3), (2, 0), (3, 2)]\n",
      "1\n",
      "[(0, 1), (1, 3), (2, 0), (3, 2)]\n",
      "1\n",
      "[(0, 1), (1, 3), (2, 0), (3, 2)]\n",
      "2\n"
     ]
    },
    {
     "data": {
      "text/plain": [
       "(False, [(0, 1), (1, 3), (2, 0), (3, 2)])"
      ]
     },
     "execution_count": 1413,
     "metadata": {},
     "output_type": "execute_result"
    }
   ],
   "source": [
    "tabletop = [(x,y) for x in list(range(4)) for y in range(4)] \n",
    "queenSpot(tabletop)"
   ]
  },
  {
   "cell_type": "markdown",
   "metadata": {},
   "source": [
    "## Programación dinámica"
   ]
  },
  {
   "cell_type": "markdown",
   "metadata": {},
   "source": [
    "Un ladrón entra a tu casa para robar los productos que ibas a vender. Decide usar tu mochila para tomar los productos robados.  \n",
    "    ¿Cuáles productos robará?"
   ]
  },
  {
   "cell_type": "code",
   "execution_count": 767,
   "metadata": {},
   "outputs": [],
   "source": [
    "def to_steal(items, max_weight):\n",
    "    bag_weight = 0\n",
    "    bag_price = 0\n",
    "    bag_items = []\n",
    "    \n",
    "    items = list(items.items())\n",
    "    items.sort(key=lambda x:x[1], reverse=True)\n",
    "    \n",
    "    for item, price in items:\n",
    "        if max_weight >= (bag_weight+objects_weight_grams[item]):\n",
    "            bag_weight += objects_weight_grams[item]\n",
    "            bag_price += price\n",
    "            bag_items.append(item)\n",
    "    print(f'Total bag weight: {bag_weight} gr')\n",
    "    print(f'Total bag price: {bag_price} USD')\n",
    "    return(bag_items)"
   ]
  },
  {
   "cell_type": "code",
   "execution_count": 768,
   "metadata": {},
   "outputs": [
    {
     "name": "stdout",
     "output_type": "stream",
     "text": [
      "Total bag weight: 2950 gr\n",
      "Total bag price: 62 USD\n"
     ]
    },
    {
     "data": {
      "text/plain": [
       "[\"Pair of Men's jeans\",\n",
       " \"Pair of Women's jeans\",\n",
       " \"Pair of size 5 Women's trainers\",\n",
       " \"Pair of size 10 Men's trainers\",\n",
       " '400 page hardback book']"
      ]
     },
     "execution_count": 768,
     "metadata": {},
     "output_type": "execute_result"
    }
   ],
   "source": [
    "to_steal(objects_price_usd, 3000)"
   ]
  },
  {
   "cell_type": "markdown",
   "metadata": {},
   "source": [
    "Los asentamientos en áreas remotas no tienen electricidad pero pueden tener una planta de poder. La electricidad se puede distribuir de un asentamiento a otro \n",
    "usando cables. ¿Cómo puedes unir todos los asentamientos usando el menor cable posible?"
   ]
  },
  {
   "cell_type": "code",
   "execution_count": 706,
   "metadata": {},
   "outputs": [],
   "source": [
    "network_weights = {\n",
    "     'a': {'b': 56, 'c': 43, 'd': 85, 'e': 70, 'f': 65},\n",
    "     'c': {'b': 55, 'd': 94, 'e': 62, 'f': 92, 'a': 43},\n",
    "     'b': {'d': 21, 'e': 83, 'f': 77, 'a': 56, 'c': 55},\n",
    "     'd': {'e': 22, 'f': 62, 'a': 85, 'c': 94, 'b': 21},\n",
    "     'e': {'f': 41, 'a': 70, 'c': 62, 'b': 83, 'd': 22},\n",
    "     'f': {'a': 65, 'c': 92, 'b': 77, 'd': 62, 'e': 41}\n",
    "}"
   ]
  },
  {
   "cell_type": "code",
   "execution_count": 727,
   "metadata": {},
   "outputs": [],
   "source": [
    "def minimum_walk(initial_node, network_weights):\n",
    "    initial_node = 'a'\n",
    "    walk = []\n",
    "    visited_nodes = set()\n",
    "    total_distance = 0\n",
    "\n",
    "    while len(visited_nodes) < len(network_weights):\n",
    "        visited_nodes.add(initial_node)\n",
    "        foo = list(network_weights[initial_node].items())\n",
    "        foo.sort(key=lambda x:x[1], reverse=False)\n",
    "        foo = iter(foo)\n",
    "        for tup in foo:\n",
    "            node, distance = tup\n",
    "            if node not in visited_nodes:\n",
    "                walk.append((initial_node, node))\n",
    "                #visited_nodes.add(node)\n",
    "                initial_node = node\n",
    "                total_distance += distance\n",
    "                break\n",
    "\n",
    "    print(f'Total distance: {total_distance}')\n",
    "    return (walk)\n"
   ]
  },
  {
   "cell_type": "code",
   "execution_count": 728,
   "metadata": {},
   "outputs": [
    {
     "name": "stdout",
     "output_type": "stream",
     "text": [
      "Total distance: 182\n"
     ]
    },
    {
     "data": {
      "text/plain": [
       "[('a', 'c'), ('c', 'b'), ('b', 'd'), ('d', 'e'), ('e', 'f')]"
      ]
     },
     "execution_count": 728,
     "metadata": {},
     "output_type": "execute_result"
    }
   ],
   "source": [
    "minimum_walk('a', network_weights)"
   ]
  }
 ],
 "metadata": {
  "kernelspec": {
   "display_name": "Python 3",
   "language": "python",
   "name": "python3"
  },
  "language_info": {
   "codemirror_mode": {
    "name": "ipython",
    "version": 3
   },
   "file_extension": ".py",
   "mimetype": "text/x-python",
   "name": "python",
   "nbconvert_exporter": "python",
   "pygments_lexer": "ipython3",
   "version": "3.7.6"
  }
 },
 "nbformat": 4,
 "nbformat_minor": 4
}
